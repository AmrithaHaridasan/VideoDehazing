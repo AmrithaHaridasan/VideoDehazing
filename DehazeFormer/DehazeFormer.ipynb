{
  "nbformat": 4,
  "nbformat_minor": 0,
  "metadata": {
    "colab": {
      "provenance": [],
      "machine_shape": "hm"
    },
    "kernelspec": {
      "name": "python3",
      "display_name": "Python 3"
    },
    "language_info": {
      "name": "python"
    },
    "accelerator": "GPU",
    "gpuClass": "standard"
  },
  "cells": [
    {
      "cell_type": "code",
      "execution_count": null,
      "metadata": {
        "id": "9oF15Pgo0-_a"
      },
      "outputs": [],
      "source": []
    },
    {
      "cell_type": "code",
      "source": [
        "from google.colab import drive\n",
        "drive.mount('/content/drive')"
      ],
      "metadata": {
        "id": "o4akAmN2DymG",
        "colab": {
          "base_uri": "https://localhost:8080/"
        },
        "outputId": "3f4a6b50-40d3-4c11-9153-862c220b63bc"
      },
      "execution_count": 1,
      "outputs": [
        {
          "output_type": "stream",
          "name": "stdout",
          "text": [
            "Mounted at /content/drive\n"
          ]
        }
      ]
    },
    {
      "cell_type": "code",
      "source": [
        "import os\n",
        "os.chdir(\"/content/drive/MyDrive/dehaze/DehazeFormer\")"
      ],
      "metadata": {
        "id": "AZCC197eFRVI"
      },
      "execution_count": 2,
      "outputs": []
    },
    {
      "cell_type": "code",
      "source": [
        "!pip install -r requirements.txt"
      ],
      "metadata": {
        "colab": {
          "base_uri": "https://localhost:8080/"
        },
        "id": "kDd9llE5Kb8J",
        "outputId": "6b9bad3f-3a8e-4c26-ead1-8558d627b121"
      },
      "execution_count": 3,
      "outputs": [
        {
          "output_type": "stream",
          "name": "stdout",
          "text": [
            "Looking in indexes: https://pypi.org/simple, https://us-python.pkg.dev/colab-wheels/public/simple/\n",
            "Collecting opencv-python==4.5.5.62\n",
            "  Downloading opencv_python-4.5.5.62-cp36-abi3-manylinux_2_17_x86_64.manylinux2014_x86_64.whl (60.4 MB)\n",
            "\u001b[K     |████████████████████████████████| 60.4 MB 70 kB/s \n",
            "\u001b[?25hRequirement already satisfied: tqdm in /usr/local/lib/python3.8/dist-packages (from -r requirements.txt (line 2)) (4.64.1)\n",
            "Collecting pytorch-msssim\n",
            "  Downloading pytorch_msssim-0.2.1-py3-none-any.whl (7.2 kB)\n",
            "Collecting timm\n",
            "  Downloading timm-0.6.12-py3-none-any.whl (549 kB)\n",
            "\u001b[K     |████████████████████████████████| 549 kB 61.2 MB/s \n",
            "\u001b[?25hRequirement already satisfied: tensorboard in /usr/local/lib/python3.8/dist-packages (from -r requirements.txt (line 5)) (2.9.1)\n",
            "Collecting tensorboardx\n",
            "  Downloading tensorboardX-2.5.1-py2.py3-none-any.whl (125 kB)\n",
            "\u001b[K     |████████████████████████████████| 125 kB 83.0 MB/s \n",
            "\u001b[?25hRequirement already satisfied: numpy>=1.17.3 in /usr/local/lib/python3.8/dist-packages (from opencv-python==4.5.5.62->-r requirements.txt (line 1)) (1.21.6)\n",
            "Requirement already satisfied: torch in /usr/local/lib/python3.8/dist-packages (from pytorch-msssim->-r requirements.txt (line 3)) (1.13.0+cu116)\n",
            "Requirement already satisfied: torchvision in /usr/local/lib/python3.8/dist-packages (from timm->-r requirements.txt (line 4)) (0.14.0+cu116)\n",
            "Collecting huggingface-hub\n",
            "  Downloading huggingface_hub-0.11.1-py3-none-any.whl (182 kB)\n",
            "\u001b[K     |████████████████████████████████| 182 kB 89.2 MB/s \n",
            "\u001b[?25hRequirement already satisfied: pyyaml in /usr/local/lib/python3.8/dist-packages (from timm->-r requirements.txt (line 4)) (6.0)\n",
            "Requirement already satisfied: typing-extensions in /usr/local/lib/python3.8/dist-packages (from torch->pytorch-msssim->-r requirements.txt (line 3)) (4.4.0)\n",
            "Requirement already satisfied: grpcio>=1.24.3 in /usr/local/lib/python3.8/dist-packages (from tensorboard->-r requirements.txt (line 5)) (1.51.1)\n",
            "Requirement already satisfied: requests<3,>=2.21.0 in /usr/local/lib/python3.8/dist-packages (from tensorboard->-r requirements.txt (line 5)) (2.23.0)\n",
            "Requirement already satisfied: absl-py>=0.4 in /usr/local/lib/python3.8/dist-packages (from tensorboard->-r requirements.txt (line 5)) (1.3.0)\n",
            "Requirement already satisfied: tensorboard-data-server<0.7.0,>=0.6.0 in /usr/local/lib/python3.8/dist-packages (from tensorboard->-r requirements.txt (line 5)) (0.6.1)\n",
            "Requirement already satisfied: setuptools>=41.0.0 in /usr/local/lib/python3.8/dist-packages (from tensorboard->-r requirements.txt (line 5)) (57.4.0)\n",
            "Requirement already satisfied: markdown>=2.6.8 in /usr/local/lib/python3.8/dist-packages (from tensorboard->-r requirements.txt (line 5)) (3.4.1)\n",
            "Requirement already satisfied: werkzeug>=1.0.1 in /usr/local/lib/python3.8/dist-packages (from tensorboard->-r requirements.txt (line 5)) (1.0.1)\n",
            "Requirement already satisfied: protobuf<3.20,>=3.9.2 in /usr/local/lib/python3.8/dist-packages (from tensorboard->-r requirements.txt (line 5)) (3.19.6)\n",
            "Requirement already satisfied: tensorboard-plugin-wit>=1.6.0 in /usr/local/lib/python3.8/dist-packages (from tensorboard->-r requirements.txt (line 5)) (1.8.1)\n",
            "Requirement already satisfied: wheel>=0.26 in /usr/local/lib/python3.8/dist-packages (from tensorboard->-r requirements.txt (line 5)) (0.38.4)\n",
            "Requirement already satisfied: google-auth-oauthlib<0.5,>=0.4.1 in /usr/local/lib/python3.8/dist-packages (from tensorboard->-r requirements.txt (line 5)) (0.4.6)\n",
            "Requirement already satisfied: google-auth<3,>=1.6.3 in /usr/local/lib/python3.8/dist-packages (from tensorboard->-r requirements.txt (line 5)) (2.15.0)\n",
            "Requirement already satisfied: six>=1.9.0 in /usr/local/lib/python3.8/dist-packages (from google-auth<3,>=1.6.3->tensorboard->-r requirements.txt (line 5)) (1.15.0)\n",
            "Requirement already satisfied: pyasn1-modules>=0.2.1 in /usr/local/lib/python3.8/dist-packages (from google-auth<3,>=1.6.3->tensorboard->-r requirements.txt (line 5)) (0.2.8)\n",
            "Requirement already satisfied: rsa<5,>=3.1.4 in /usr/local/lib/python3.8/dist-packages (from google-auth<3,>=1.6.3->tensorboard->-r requirements.txt (line 5)) (4.9)\n",
            "Requirement already satisfied: cachetools<6.0,>=2.0.0 in /usr/local/lib/python3.8/dist-packages (from google-auth<3,>=1.6.3->tensorboard->-r requirements.txt (line 5)) (5.2.0)\n",
            "Requirement already satisfied: requests-oauthlib>=0.7.0 in /usr/local/lib/python3.8/dist-packages (from google-auth-oauthlib<0.5,>=0.4.1->tensorboard->-r requirements.txt (line 5)) (1.3.1)\n",
            "Requirement already satisfied: importlib-metadata>=4.4 in /usr/local/lib/python3.8/dist-packages (from markdown>=2.6.8->tensorboard->-r requirements.txt (line 5)) (4.13.0)\n",
            "Requirement already satisfied: zipp>=0.5 in /usr/local/lib/python3.8/dist-packages (from importlib-metadata>=4.4->markdown>=2.6.8->tensorboard->-r requirements.txt (line 5)) (3.11.0)\n",
            "Requirement already satisfied: pyasn1<0.5.0,>=0.4.6 in /usr/local/lib/python3.8/dist-packages (from pyasn1-modules>=0.2.1->google-auth<3,>=1.6.3->tensorboard->-r requirements.txt (line 5)) (0.4.8)\n",
            "Requirement already satisfied: certifi>=2017.4.17 in /usr/local/lib/python3.8/dist-packages (from requests<3,>=2.21.0->tensorboard->-r requirements.txt (line 5)) (2022.9.24)\n",
            "Requirement already satisfied: chardet<4,>=3.0.2 in /usr/local/lib/python3.8/dist-packages (from requests<3,>=2.21.0->tensorboard->-r requirements.txt (line 5)) (3.0.4)\n",
            "Requirement already satisfied: urllib3!=1.25.0,!=1.25.1,<1.26,>=1.21.1 in /usr/local/lib/python3.8/dist-packages (from requests<3,>=2.21.0->tensorboard->-r requirements.txt (line 5)) (1.24.3)\n",
            "Requirement already satisfied: idna<3,>=2.5 in /usr/local/lib/python3.8/dist-packages (from requests<3,>=2.21.0->tensorboard->-r requirements.txt (line 5)) (2.10)\n",
            "Requirement already satisfied: oauthlib>=3.0.0 in /usr/local/lib/python3.8/dist-packages (from requests-oauthlib>=0.7.0->google-auth-oauthlib<0.5,>=0.4.1->tensorboard->-r requirements.txt (line 5)) (3.2.2)\n",
            "Requirement already satisfied: packaging>=20.9 in /usr/local/lib/python3.8/dist-packages (from huggingface-hub->timm->-r requirements.txt (line 4)) (21.3)\n",
            "Requirement already satisfied: filelock in /usr/local/lib/python3.8/dist-packages (from huggingface-hub->timm->-r requirements.txt (line 4)) (3.8.0)\n",
            "Requirement already satisfied: pyparsing!=3.0.5,>=2.0.2 in /usr/local/lib/python3.8/dist-packages (from packaging>=20.9->huggingface-hub->timm->-r requirements.txt (line 4)) (3.0.9)\n",
            "Requirement already satisfied: pillow!=8.3.*,>=5.3.0 in /usr/local/lib/python3.8/dist-packages (from torchvision->timm->-r requirements.txt (line 4)) (7.1.2)\n",
            "Installing collected packages: huggingface-hub, timm, tensorboardx, pytorch-msssim, opencv-python\n",
            "  Attempting uninstall: opencv-python\n",
            "    Found existing installation: opencv-python 4.6.0.66\n",
            "    Uninstalling opencv-python-4.6.0.66:\n",
            "      Successfully uninstalled opencv-python-4.6.0.66\n",
            "Successfully installed huggingface-hub-0.11.1 opencv-python-4.5.5.62 pytorch-msssim-0.2.1 tensorboardx-2.5.1 timm-0.6.12\n"
          ]
        }
      ]
    },
    {
      "cell_type": "code",
      "source": [
        "#Segregating dummy train and test sets\n",
        "import os\n",
        "import shutil\n",
        "\n",
        "ctr = 0\n",
        "images = []\n",
        "for f in os.listdir(\"/content/drive/MyDrive/dehaze/DehazeFormer/data/NYU/train/GT\"):\n",
        "  if ctr<=100:\n",
        "    images.append(f)\n",
        "  else:\n",
        "    break\n",
        "\n",
        "# images = [f for f in os.listdir(\"/content/drive/MyDrive/dehaze/DehazeFormer/data/NYU/train\") if '.jpg' in f.lower()]\n",
        "\n",
        "# os.mkdir('downloaded_images')\n",
        "\n",
        "for image in images:\n",
        "    # new_path = 'downloaded_images/' + image\n",
        "    old_path = '/content/drive/MyDrive/dehaze/DehazeFormer/data/NYU/train/GT/' + image\n",
        "    new_path = '/content/drive/MyDrive/dehaze/DehazeFormer/data/NYU/test/GT/' + image\n",
        "    shutil.move(old_path, new_path)"
      ],
      "metadata": {
        "id": "oMhhYQ2DHksL"
      },
      "execution_count": null,
      "outputs": []
    },
    {
      "cell_type": "markdown",
      "source": [],
      "metadata": {
        "id": "rZ6cSnb2g2kQ"
      }
    },
    {
      "cell_type": "code",
      "source": [
        "#Training DehazeFormer on Revide Dataset\n",
        "!python train.py --model dehazeformer-b --dataset REVIDE --exp indoor\n"
      ],
      "metadata": {
        "id": "wBLcMVS8Jfmy",
        "colab": {
          "base_uri": "https://localhost:8080/"
        },
        "outputId": "2139593a-340e-48f4-cc02-a960b8e548cc"
      },
      "execution_count": 7,
      "outputs": [
        {
          "output_type": "stream",
          "name": "stdout",
          "text": [
            "/usr/local/lib/python3.8/dist-packages/torch/functional.py:504: UserWarning: torch.meshgrid: in an upcoming release, it will be required to pass the indexing argument. (Triggered internally at ../aten/src/ATen/native/TensorShape.cpp:3190.)\n",
            "  return _VF.meshgrid(tensors, **kwargs)  # type: ignore[attr-defined]\n",
            "./data/REVIDE   train\n",
            "/usr/local/lib/python3.8/dist-packages/torch/utils/data/dataloader.py:554: UserWarning: This DataLoader will create 16 worker processes in total. Our suggested max number of worker in current system is 4, which is smaller than what this DataLoader is going to create. Please be aware that excessive worker creation might get DataLoader running slow or even freeze, lower the worker number to avoid potential slowness/freeze if necessary.\n",
            "  warnings.warn(_create_warning_msg(\n",
            "./data/REVIDE   test\n",
            "==> Existing trained model\n"
          ]
        }
      ]
    },
    {
      "cell_type": "code",
      "source": [
        "#Testing DehazeFormer on Revide Dataset\n",
        "#Computational intensive as CUDA out of memory exception thrown for any number of images\n",
        "!python test.py --model dehazeformer-b --dataset REVIDE_TEST --exp indoor"
      ],
      "metadata": {
        "id": "5CPgBvWU3A5L",
        "colab": {
          "base_uri": "https://localhost:8080/"
        },
        "outputId": "2052f153-ccc8-4c7a-e6b4-b757e3e311bf"
      },
      "execution_count": 7,
      "outputs": [
        {
          "output_type": "stream",
          "name": "stdout",
          "text": [
            "/usr/local/lib/python3.8/dist-packages/torch/functional.py:504: UserWarning: torch.meshgrid: in an upcoming release, it will be required to pass the indexing argument. (Triggered internally at ../aten/src/ATen/native/TensorShape.cpp:3190.)\n",
            "  return _VF.meshgrid(tensors, **kwargs)  # type: ignore[attr-defined]\n",
            "==> Start testing, current model name: dehazeformer-b\n",
            "./data/REVIDE_TEST\n",
            "./data/REVIDE_TEST   test\n",
            "hello\n",
            "Traceback (most recent call last):\n",
            "  File \"test.py\", line 115, in <module>\n",
            "    test(test_loader, network, result_dir)\n",
            "  File \"test.py\", line 59, in test\n",
            "    output = network(input).clamp_(-1, 1)\n",
            "  File \"/usr/local/lib/python3.8/dist-packages/torch/nn/modules/module.py\", line 1190, in _call_impl\n",
            "    return forward_call(*input, **kwargs)\n",
            "  File \"/content/drive/.shortcut-targets-by-id/1QsZ7t6JUBKnvB1lMDrizbY8lvcFrWtCW/dehaze/DehazeFormer/models/dehazeformer.py\", line 486, in forward\n",
            "    feat = self.forward_features(x)\n",
            "  File \"/content/drive/.shortcut-targets-by-id/1QsZ7t6JUBKnvB1lMDrizbY8lvcFrWtCW/dehaze/DehazeFormer/models/dehazeformer.py\", line 462, in forward_features\n",
            "    x = self.layer1(x)\n",
            "  File \"/usr/local/lib/python3.8/dist-packages/torch/nn/modules/module.py\", line 1190, in _call_impl\n",
            "    return forward_call(*input, **kwargs)\n",
            "  File \"/content/drive/.shortcut-targets-by-id/1QsZ7t6JUBKnvB1lMDrizbY8lvcFrWtCW/dehaze/DehazeFormer/models/dehazeformer.py\", line 308, in forward\n",
            "    x = blk(x)\n",
            "  File \"/usr/local/lib/python3.8/dist-packages/torch/nn/modules/module.py\", line 1190, in _call_impl\n",
            "    return forward_call(*input, **kwargs)\n",
            "  File \"/content/drive/.shortcut-targets-by-id/1QsZ7t6JUBKnvB1lMDrizbY8lvcFrWtCW/dehaze/DehazeFormer/models/dehazeformer.py\", line 264, in forward\n",
            "    x = self.attn(x)\n",
            "  File \"/usr/local/lib/python3.8/dist-packages/torch/nn/modules/module.py\", line 1190, in _call_impl\n",
            "    return forward_call(*input, **kwargs)\n",
            "  File \"/content/drive/.shortcut-targets-by-id/1QsZ7t6JUBKnvB1lMDrizbY8lvcFrWtCW/dehaze/DehazeFormer/models/dehazeformer.py\", line 222, in forward\n",
            "    attn_windows = self.attn(qkv)\n",
            "  File \"/usr/local/lib/python3.8/dist-packages/torch/nn/modules/module.py\", line 1190, in _call_impl\n",
            "    return forward_call(*input, **kwargs)\n",
            "  File \"/content/drive/.shortcut-targets-by-id/1QsZ7t6JUBKnvB1lMDrizbY8lvcFrWtCW/dehaze/DehazeFormer/models/dehazeformer.py\", line 133, in forward\n",
            "    attn = attn + relative_position_bias.unsqueeze(0)\n",
            "torch.cuda.OutOfMemoryError: CUDA out of memory. Tried to allocate 2.34 GiB (GPU 0; 14.76 GiB total capacity; 9.50 GiB already allocated; 1.74 GiB free; 11.98 GiB reserved in total by PyTorch) If reserved memory is >> allocated memory try setting max_split_size_mb to avoid fragmentation.  See documentation for Memory Management and PYTORCH_CUDA_ALLOC_CONF\n"
          ]
        }
      ]
    },
    {
      "cell_type": "code",
      "source": [
        "'''Convert JPG to png images'''\n",
        "\n",
        "import os\n",
        "import re\n",
        "from PIL import Image\n",
        "\n",
        "'''if not 'new_hazy_pngs' in os.listdir('.'):\n",
        "    os.makedirs('new_hazy_pngs')'''\n",
        "\n",
        "for i in os.listdir('/content/drive/MyDrive/dehaze/DehazeFormer/data/REVIDE/test/GT/'):\n",
        "    name = re.findall('(.+)\\.',i)\n",
        "    print(name[0])\n",
        "    img = Image.open('/content/drive/MyDrive/dehaze/DehazeFormer/data/REVIDE/test/GT/'+i)\n",
        "    img.save('/content/drive/MyDrive/dehaze/DehazeFormer/data/REVIDE/test/new_GT/'+name[0]+'.png','png')"
      ],
      "metadata": {
        "id": "evOKNVBTX4Vj"
      },
      "execution_count": null,
      "outputs": []
    }
  ]
}